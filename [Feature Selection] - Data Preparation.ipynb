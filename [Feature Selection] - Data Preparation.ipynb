{
 "cells": [
  {
   "cell_type": "markdown",
   "id": "2272d9bb",
   "metadata": {},
   "source": [
    "### Feature Selection -  Recursive Feature Elimination (RFE) "
   ]
  },
  {
   "cell_type": "code",
   "execution_count": 1,
   "id": "6ed6a65f",
   "metadata": {},
   "outputs": [],
   "source": [
    "import warnings\n",
    "warnings.filterwarnings('ignore')\n",
    "\n",
    "import pandas as pd \n",
    "from functions import *  \n",
    "from sklearn.model_selection import train_test_split   \n",
    "\n",
    "## models \n",
    "from sklearn.ensemble import RandomForestClassifier\n",
    "from xgboost import XGBClassifier \n",
    "\n",
    "# Important \n",
    "from sklearn.feature_selection import RFE  "
   ]
  },
  {
   "cell_type": "code",
   "execution_count": 2,
   "id": "97806f15",
   "metadata": {},
   "outputs": [],
   "source": [
    "mriDF = pd.read_csv(\"data/mri_statistics.csv\") \n",
    "assessmentDF = pd.read_csv(\"data/assessment_statistics.csv\")\n",
    "cognitiveScoreDF = pd.read_csv(\"data/cogniteive_score_statistics.csv\") \n",
    "labels = pd.read_csv(\"data/four_labels.csv\")\n",
    "baselineDF = pd.read_csv(\"data/Baseline_final.csv\") "
   ]
  },
  {
   "cell_type": "code",
   "execution_count": 3,
   "id": "7a282244",
   "metadata": {},
   "outputs": [],
   "source": [
    "completeDataDF = cognitiveScoreDF[:] \n",
    "completeDataDF = pd.merge(completeDataDF, assessmentDF, on=\"RID\", how=\"inner\")  \n",
    "completeDataDF = pd.merge(completeDataDF, mriDF, on=\"RID\", how=\"inner\")  \n",
    "completeDataDF = pd.merge(completeDataDF, baselineDF, on=\"RID\", how=\"inner\") "
   ]
  },
  {
   "cell_type": "code",
   "execution_count": 4,
   "id": "8a71ac47",
   "metadata": {},
   "outputs": [],
   "source": [
    "cs_columns = cognitiveScoreDF.columns.to_list()[1:]\n",
    "nt_columns = assessmentDF.columns.to_list()[1:]\n",
    "mri_columns = mriDF.columns.to_list()[1:]\n",
    "static_columns = baselineDF.columns.to_list()[2:]\n",
    "\n",
    "## Parameters \n",
    "TARGET_COLUMN = \"DX\" \n",
    "TEST_SIZE     = 0.20 \n",
    "SCALER_TYPE   = \"mm\" \n",
    "SEEDS = [45, 78, 95, 15, 53, 12, 85, 61, 77, 10] \n",
    "\n",
    "mapping          = {\"AD\": 0, \"sMCI\": 1, \"CN\": 2, \"pMCI\": 3}   \n",
    "gender_mapping   = {'Male': 1, 'Female': 0}\n",
    "marriage_mapping = {'Married': 1, 'Widowed': 2, 'Divorced': 3, 'Never married': 0}\n",
    "\n",
    "dataset       = completeDataDF.drop(['RID'], axis=1) \n",
    "dataset['DX'] = dataset['DX'].map(mapping)  \n",
    "dataset['PTGENDER'] = dataset['PTGENDER'].map(gender_mapping) \n",
    "dataset['PTMARRY'] = dataset['PTMARRY'].map(marriage_mapping) "
   ]
  },
  {
   "cell_type": "code",
   "execution_count": 5,
   "id": "26aaf9c3",
   "metadata": {},
   "outputs": [
    {
     "data": {
      "text/plain": [
       "(1371, 341)"
      ]
     },
     "execution_count": 5,
     "metadata": {},
     "output_type": "execute_result"
    }
   ],
   "source": [
    "dataset.shape"
   ]
  },
  {
   "cell_type": "code",
   "execution_count": 8,
   "id": "45df1264",
   "metadata": {},
   "outputs": [],
   "source": [
    "def select(features, supports): \n",
    "    selected_features = [] \n",
    "    \n",
    "    for i in range(len(features)): \n",
    "        if supports[i]: \n",
    "            selected_features.append(features[i]) \n",
    "    \n",
    "    return selected_features"
   ]
  },
  {
   "cell_type": "code",
   "execution_count": 43,
   "id": "100dca2c",
   "metadata": {},
   "outputs": [],
   "source": [
    "modality = cs_columns  + nt_columns + mri_columns + static_columns "
   ]
  },
  {
   "cell_type": "code",
   "execution_count": 45,
   "id": "613747ef",
   "metadata": {},
   "outputs": [
    {
     "name": "stdout",
     "output_type": "stream",
     "text": [
      "[RF] Selected features: 170\n",
      "0.855\n",
      "[RF] Selected features: 170\n",
      "0.905\n",
      "[RF] Selected features: 170\n",
      "0.855\n",
      "[RF] Selected features: 170\n",
      "0.879\n",
      "[RF] Selected features: 170\n",
      "0.858\n",
      "[RF] Selected features: 170\n",
      "0.879\n",
      "[RF] Selected features: 170\n",
      "0.85\n",
      "[RF] Selected features: 170\n",
      "0.861\n",
      "[RF] Selected features: 170\n",
      "0.847\n",
      "[RF] Selected features: 170\n",
      "0.871\n"
     ]
    }
   ],
   "source": [
    "##  RFE-RF\n",
    "selected_features = []   \n",
    "\n",
    "for seed in SEEDS: \n",
    "    X_train, X_test, y_train, y_test = split_dataset(dataset, TARGET_COLUMN, TEST_SIZE, seed)  \n",
    "    scaled_X_train, scaled_X_test = normalize_dataset(X_train, X_test, SCALER_TYPE)   \n",
    "    X_train, y_train, X_test, y_test = balance_data(scaled_X_train, y_train, scaled_X_test, y_test) \n",
    "\n",
    "    model_rf = RandomForestClassifier(random_state=45) \n",
    "\n",
    "    selector = RFE(model_rf, step=1)\n",
    "    selector = selector.fit(X_train[modality], y_train) \n",
    "\n",
    "    rf_selected_features = select(modality, selector.support_)\n",
    "\n",
    "    print(\"[RF] Selected features: {}\".format(len(rf_selected_features))) \n",
    "    \n",
    "    selected_features.append(rf_selected_features)\n",
    "    \n",
    "    print(round(selector.score(X_test[modality], y_test), 3)) "
   ]
  },
  {
   "cell_type": "code",
   "execution_count": 46,
   "id": "5e82c6cc",
   "metadata": {
    "scrolled": true
   },
   "outputs": [
    {
     "data": {
      "text/plain": [
       "10"
      ]
     },
     "execution_count": 46,
     "metadata": {},
     "output_type": "execute_result"
    }
   ],
   "source": [
    "len(selected_features)"
   ]
  },
  {
   "cell_type": "code",
   "execution_count": 49,
   "id": "d6214c20",
   "metadata": {},
   "outputs": [],
   "source": [
    "def intersection(lst1, lst2):\n",
    "    lst3 = [value for value in lst1 if value in lst2]\n",
    "    return lst3 "
   ]
  },
  {
   "cell_type": "code",
   "execution_count": 50,
   "id": "d14e4a4e",
   "metadata": {},
   "outputs": [],
   "source": [
    "selection = selected_features[1] \n",
    "\n",
    "cs_features     = intersection(selection, cs_columns) \n",
    "nt_features     = intersection(selection, nt_columns) \n",
    "mri_features    = intersection(selection, mri_columns) \n",
    "static_features = intersection(selection, static_columns)  \n",
    "\n",
    "cs_features.append('RID') \n",
    "nt_features.append('RID') \n",
    "mri_features.append('RID') \n",
    "static_features.append('RID') \n",
    "static_features.append('DX')  "
   ]
  },
  {
   "cell_type": "code",
   "execution_count": 58,
   "id": "8edac0ae",
   "metadata": {},
   "outputs": [],
   "source": [
    "cs_filename = \"data/cogniteive_score_statistics.csv\"\n",
    "assessment_filename = \"data/assessment_statistics.csv\" \n",
    "mri_filename = \"data/mri_statistics.csv\"\n",
    "baseline_filename =  \"data/Baseline_final.csv\" \n",
    "\n",
    "cognitiveScoreDF[cs_features].to_csv(cs_filename, index=False)\n",
    "assessmentDF[nt_features].to_csv(assessment_filename, index=False)\n",
    "mriDF[mri_features].to_csv(mri_filename, index=False) \n",
    "baselineDF[static_features].to_csv(baseline_filename, index=False)  "
   ]
  }
 ],
 "metadata": {
  "kernelspec": {
   "display_name": "Python 3 (ipykernel)",
   "language": "python",
   "name": "python3"
  },
  "language_info": {
   "codemirror_mode": {
    "name": "ipython",
    "version": 3
   },
   "file_extension": ".py",
   "mimetype": "text/x-python",
   "name": "python",
   "nbconvert_exporter": "python",
   "pygments_lexer": "ipython3",
   "version": "3.7.11"
  }
 },
 "nbformat": 4,
 "nbformat_minor": 5
}
